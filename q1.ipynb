{
 "cells": [
  {
   "cell_type": "code",
   "execution_count": 1,
   "id": "49e2dbd5",
   "metadata": {},
   "outputs": [
    {
     "name": "stderr",
     "output_type": "stream",
     "text": [
      "Duplicate key in file PosixPath('/Users/sunqian/anaconda3/envs/ICR/lib/python3.10/site-packages/matplotlib/mpl-data/matplotlibrc'), line 789 ('font.family         : sans-serif')\n",
      "Duplicate key in file PosixPath('/Users/sunqian/anaconda3/envs/ICR/lib/python3.10/site-packages/matplotlib/mpl-data/matplotlibrc'), line 790 ('font.sans-serif     : Microsoft YaHei, SimHei, Arial')\n"
     ]
    }
   ],
   "source": [
    "\n",
    "import os\n",
    "import cv2\n",
    "from  tqdm  import  tqdm \n",
    "import numpy as np\n",
    "import pandas as pd\n",
    "import matplotlib.pyplot as plt\n",
    "from sklearn.model_selection import StratifiedShuffleSplit\n",
    "import random\n",
    "from skimage import feature as ft\n",
    "from sklearn.decomposition import PCA\n",
    "from sklearn import model_selection\n",
    "from sklearn.metrics import classification_report\n",
    "from sklearn.model_selection import cross_val_score\n",
    "from sklearn.preprocessing import StandardScaler\n",
    "\n",
    "from xgboost import XGBClassifier\n",
    "import xgboost\n",
    "import lightgbm as lgb\n",
    "from sklearn.ensemble import RandomForestClassifier, ExtraTreesClassifier, GradientBoostingClassifier, StackingClassifier\n",
    "from sklearn.neighbors import KNeighborsClassifier\n",
    "from sklearn.svm import NuSVC, SVC\n",
    "from sklearn.linear_model import SGDClassifier\n",
    "\n",
    "from sklearn.model_selection import GridSearchCV \n",
    "from sklearn.metrics import confusion_matrix, ConfusionMatrixDisplay"
   ]
  },
  {
   "cell_type": "code",
   "execution_count": 3,
   "id": "e75ca56e-70f1-4728-ac83-dd1e152108f0",
   "metadata": {},
   "outputs": [
    {
     "name": "stdout",
     "output_type": "stream",
     "text": [
      "Looking in indexes: https://pypi.tuna.tsinghua.edu.cn/simple\n",
      "Collecting opencv-python\n",
      "  Downloading https://pypi.tuna.tsinghua.edu.cn/packages/77/df/b56175c3fb5bc058774bdcf35f5a71cf9c3c5b909f98a1c688eb71cd3b1f/opencv_python-4.9.0.80-cp37-abi3-macosx_11_0_arm64.whl (35.4 MB)\n",
      "\u001b[2K     \u001b[90m━━━━━━━━━━━━━━━━━━━━━━━━━━━━━━━━━━━━━━━\u001b[0m \u001b[32m35.4/35.4 MB\u001b[0m \u001b[31m749.0 kB/s\u001b[0m eta \u001b[36m0:00:00\u001b[0m00:01\u001b[0m00:02\u001b[0m\n",
      "\u001b[?25hCollecting numpy>=1.21.0 (from opencv-python)\n",
      "  Downloading https://pypi.tuna.tsinghua.edu.cn/packages/a7/ae/f53b7b265fdc701e663fbb322a8e9d4b14d9cb7b2385f45ddfabfc4327e4/numpy-1.24.4-cp38-cp38-macosx_11_0_arm64.whl (13.8 MB)\n",
      "\u001b[2K     \u001b[90m━━━━━━━━━━━━━━━━━━━━━━━━━━━━━━━━━━━━━━━\u001b[0m \u001b[32m13.8/13.8 MB\u001b[0m \u001b[31m759.1 kB/s\u001b[0m eta \u001b[36m0:00:00\u001b[0m00:01\u001b[0m00:01\u001b[0m\n",
      "\u001b[?25hInstalling collected packages: numpy, opencv-python\n",
      "Successfully installed numpy-1.24.4 opencv-python-4.9.0.80\n"
     ]
    }
   ],
   "source": [
    "!pip install opencv-python -i https://pypi.tuna.tsinghua.edu.cn/simple"
   ]
  },
  {
   "cell_type": "code",
   "execution_count": 2,
   "id": "278eabfc-720d-4a8d-9f39-5815fabd066b",
   "metadata": {
    "scrolled": true
   },
   "outputs": [
    {
     "name": "stdout",
     "output_type": "stream",
     "text": [
      "Package                   Version\n",
      "------------------------- ---------\n",
      "anyio                     3.7.1\n",
      "appnope                   0.1.3\n",
      "argon2-cffi               21.3.0\n",
      "argon2-cffi-bindings      21.2.0\n",
      "arrow                     1.2.3\n",
      "asgiref                   3.7.2\n",
      "asttokens                 2.2.1\n",
      "async-lru                 2.0.4\n",
      "attrs                     23.1.0\n",
      "Babel                     2.12.1\n",
      "backcall                  0.2.0\n",
      "backports.zoneinfo        0.2.1\n",
      "beautifulsoup4            4.12.2\n",
      "bleach                    6.0.0\n",
      "certifi                   2023.7.22\n",
      "cffi                      1.15.1\n",
      "charset-normalizer        3.2.0\n",
      "comm                      0.1.3\n",
      "debugpy                   1.6.7\n",
      "decorator                 5.1.1\n",
      "defusedxml                0.7.1\n",
      "Django                    4.2.3\n",
      "exceptiongroup            1.1.2\n",
      "executing                 1.2.0\n",
      "fastjsonschema            2.18.0\n",
      "fqdn                      1.5.1\n",
      "idna                      3.4\n",
      "image                     1.5.33\n",
      "importlib-metadata        6.8.0\n",
      "importlib-resources       6.0.0\n",
      "ipykernel                 6.25.0\n",
      "ipython                   8.12.2\n",
      "ipython-genutils          0.2.0\n",
      "ipywidgets                8.0.7\n",
      "isoduration               20.11.0\n",
      "jedi                      0.19.0\n",
      "Jinja2                    3.1.2\n",
      "json5                     0.9.14\n",
      "jsonpointer               2.4\n",
      "jsonschema                4.18.4\n",
      "jsonschema-specifications 2023.7.1\n",
      "jupyter                   1.0.0\n",
      "jupyter_client            8.3.0\n",
      "jupyter-console           6.6.3\n",
      "jupyter_core              5.3.1\n",
      "jupyter-events            0.7.0\n",
      "jupyter-lsp               2.2.0\n",
      "jupyter_server            2.7.0\n",
      "jupyter_server_terminals  0.4.4\n",
      "jupyterlab                4.0.3\n",
      "jupyterlab-pygments       0.2.2\n",
      "jupyterlab_server         2.24.0\n",
      "jupyterlab-widgets        3.0.8\n",
      "MarkupSafe                2.1.3\n",
      "matplotlib-inline         0.1.6\n",
      "mistune                   3.0.1\n",
      "nbclient                  0.8.0\n",
      "nbconvert                 7.7.3\n",
      "nbformat                  5.9.2\n",
      "nest-asyncio              1.5.7\n",
      "notebook                  7.0.1\n",
      "notebook_shim             0.2.3\n",
      "overrides                 7.3.1\n",
      "packaging                 23.1\n",
      "pandocfilters             1.5.0\n",
      "parso                     0.8.3\n",
      "pexpect                   4.8.0\n",
      "pickleshare               0.7.5\n",
      "Pillow                    10.0.0\n",
      "pip                       23.2.1\n",
      "pkgutil_resolve_name      1.3.10\n",
      "platformdirs              3.10.0\n",
      "prometheus-client         0.17.1\n",
      "prompt-toolkit            3.0.39\n",
      "psutil                    5.9.5\n",
      "ptyprocess                0.7.0\n",
      "pure-eval                 0.2.2\n",
      "pycparser                 2.21\n",
      "Pygments                  2.15.1\n",
      "python-dateutil           2.8.2\n",
      "python-json-logger        2.0.7\n",
      "pytz                      2023.3\n",
      "PyYAML                    6.0.1\n",
      "pyzmq                     25.1.0\n",
      "qtconsole                 5.4.3\n",
      "QtPy                      2.3.1\n",
      "referencing               0.30.0\n",
      "requests                  2.31.0\n",
      "rfc3339-validator         0.1.4\n",
      "rfc3986-validator         0.1.1\n",
      "rpds-py                   0.9.2\n",
      "Send2Trash                1.8.2\n",
      "setuptools                68.0.0\n",
      "six                       1.16.0\n",
      "sniffio                   1.3.0\n",
      "soupsieve                 2.4.1\n",
      "sqlparse                  0.4.4\n",
      "stack-data                0.6.2\n",
      "terminado                 0.17.1\n",
      "tinycss2                  1.2.1\n",
      "tomli                     2.0.1\n",
      "tornado                   6.3.2\n",
      "traitlets                 5.9.0\n",
      "typing_extensions         4.7.1\n",
      "uri-template              1.3.0\n",
      "urllib3                   2.0.4\n",
      "wcwidth                   0.2.6\n",
      "webcolors                 1.13\n",
      "webencodings              0.5.1\n",
      "websocket-client          1.6.1\n",
      "wheel                     0.38.4\n",
      "widgetsnbextension        4.0.8\n",
      "zipp                      3.16.2\n",
      "Note: you may need to restart the kernel to use updated packages.\n"
     ]
    }
   ],
   "source": [
    "pip list"
   ]
  },
  {
   "cell_type": "code",
   "execution_count": 17,
   "id": "09970cc6-f855-4254-9f90-2ca4a1ab5729",
   "metadata": {},
   "outputs": [
    {
     "name": "stdout",
     "output_type": "stream",
     "text": [
      "Looking in indexes: https://pypi.tuna.tsinghua.edu.cn/simple\n",
      "Collecting matplotlib\n",
      "  Downloading https://pypi.tuna.tsinghua.edu.cn/packages/aa/59/4d13e5b6298b1ca5525eea8c68d3806ae93ab6d0bb17ca9846aa3156b92b/matplotlib-3.7.5-cp38-cp38-macosx_11_0_arm64.whl (7.3 MB)\n",
      "\u001b[2K     \u001b[90m━━━━━━━━━━━━━━━━━━━━━━━━━━━━━━━━━━━━━━━━\u001b[0m \u001b[32m7.3/7.3 MB\u001b[0m \u001b[31m731.9 kB/s\u001b[0m eta \u001b[36m0:00:00\u001b[0m00:01\u001b[0m00:01\u001b[0m\n",
      "\u001b[?25hCollecting contourpy>=1.0.1 (from matplotlib)\n",
      "  Downloading https://pypi.tuna.tsinghua.edu.cn/packages/a6/82/29f5ff4ae074c3230e266bc9efef449ebde43721a727b989dd8ef8f97d73/contourpy-1.1.1-cp38-cp38-macosx_11_0_arm64.whl (232 kB)\n",
      "\u001b[2K     \u001b[90m━━━━━━━━━━━━━━━━━━━━━━━━━━━━━━━━━━━━━\u001b[0m \u001b[32m232.4/232.4 kB\u001b[0m \u001b[31m835.0 kB/s\u001b[0m eta \u001b[36m0:00:00\u001b[0ma \u001b[36m0:00:01\u001b[0m\n",
      "\u001b[?25hCollecting cycler>=0.10 (from matplotlib)\n",
      "  Downloading https://pypi.tuna.tsinghua.edu.cn/packages/e7/05/c19819d5e3d95294a6f5947fb9b9629efb316b96de511b418c53d245aae6/cycler-0.12.1-py3-none-any.whl (8.3 kB)\n",
      "Collecting fonttools>=4.22.0 (from matplotlib)\n",
      "  Downloading https://pypi.tuna.tsinghua.edu.cn/packages/45/2c/fd12a360eec1d9feb58a6557c684989e06d92280cd209e8e46cf6f6a78e3/fonttools-4.51.0-cp38-cp38-macosx_10_9_universal2.whl (2.8 MB)\n",
      "\u001b[2K     \u001b[90m━━━━━━━━━━━━━━━━━━━━━━━━━━━━━━━━━━━━━━━━\u001b[0m \u001b[32m2.8/2.8 MB\u001b[0m \u001b[31m741.3 kB/s\u001b[0m eta \u001b[36m0:00:00\u001b[0m00:01\u001b[0m00:01\u001b[0m\n",
      "\u001b[?25hCollecting kiwisolver>=1.0.1 (from matplotlib)\n",
      "  Downloading https://pypi.tuna.tsinghua.edu.cn/packages/2e/db/501d8e0452e025e3ae7140439efab43789eb251e5cd8ed962297d565a301/kiwisolver-1.4.5-cp38-cp38-macosx_11_0_arm64.whl (66 kB)\n",
      "\u001b[2K     \u001b[90m━━━━━━━━━━━━━━━━━━━━━━━━━━━━━━━━━━━━━━━━\u001b[0m \u001b[32m66.0/66.0 kB\u001b[0m \u001b[31m1.3 MB/s\u001b[0m eta \u001b[36m0:00:00\u001b[0mta \u001b[36m0:00:01\u001b[0m\n",
      "\u001b[?25hRequirement already satisfied: numpy<2,>=1.20 in /Users/sunqian/anaconda3/envs/cyfm/lib/python3.8/site-packages (from matplotlib) (1.24.4)\n",
      "Requirement already satisfied: packaging>=20.0 in /Users/sunqian/anaconda3/envs/cyfm/lib/python3.8/site-packages (from matplotlib) (23.1)\n",
      "Requirement already satisfied: pillow>=6.2.0 in /Users/sunqian/anaconda3/envs/cyfm/lib/python3.8/site-packages (from matplotlib) (10.0.0)\n",
      "Collecting pyparsing>=2.3.1 (from matplotlib)\n",
      "  Downloading https://pypi.tuna.tsinghua.edu.cn/packages/9d/ea/6d76df31432a0e6fdf81681a895f009a4bb47b3c39036db3e1b528191d52/pyparsing-3.1.2-py3-none-any.whl (103 kB)\n",
      "\u001b[2K     \u001b[90m━━━━━━━━━━━━━━━━━━━━━━━━━━━━━━━━━━━━━━━\u001b[0m \u001b[32m103.2/103.2 kB\u001b[0m \u001b[31m3.5 MB/s\u001b[0m eta \u001b[36m0:00:00\u001b[0m\n",
      "\u001b[?25hRequirement already satisfied: python-dateutil>=2.7 in /Users/sunqian/anaconda3/envs/cyfm/lib/python3.8/site-packages (from matplotlib) (2.8.2)\n",
      "Requirement already satisfied: importlib-resources>=3.2.0 in /Users/sunqian/anaconda3/envs/cyfm/lib/python3.8/site-packages (from matplotlib) (6.0.0)\n",
      "Requirement already satisfied: zipp>=3.1.0 in /Users/sunqian/anaconda3/envs/cyfm/lib/python3.8/site-packages (from importlib-resources>=3.2.0->matplotlib) (3.16.2)\n",
      "Requirement already satisfied: six>=1.5 in /Users/sunqian/anaconda3/envs/cyfm/lib/python3.8/site-packages (from python-dateutil>=2.7->matplotlib) (1.16.0)\n",
      "Installing collected packages: pyparsing, kiwisolver, fonttools, cycler, contourpy, matplotlib\n",
      "Successfully installed contourpy-1.1.1 cycler-0.12.1 fonttools-4.51.0 kiwisolver-1.4.5 matplotlib-3.7.5 pyparsing-3.1.2\n"
     ]
    }
   ],
   "source": [
    "!pip install  matplotlib -i https://pypi.tuna.tsinghua.edu.cn/simple"
   ]
  },
  {
   "cell_type": "code",
   "execution_count": 1,
   "id": "3674132b-86b5-4c31-af15-a587f69739eb",
   "metadata": {},
   "outputs": [],
   "source": [
    "import cv2\n",
    "import numpy as np"
   ]
  },
  {
   "cell_type": "code",
   "execution_count": 44,
   "id": "9bfbd689",
   "metadata": {},
   "outputs": [],
   "source": [
    "#以1_Pre_test-h02060.jpg为例\n",
    "image=cv2.imread('w01870.jpg')"
   ]
  },
  {
   "cell_type": "code",
   "execution_count": 45,
   "id": "5f04407d",
   "metadata": {},
   "outputs": [],
   "source": [
    "#=============================灰度变换==========================\n",
    "# 通过将像素值映射到新的范围来增强图像的灰度\n",
    "min_gray = 0  # 新的最小灰度值\n",
    "max_gray = 255  # 新的最大灰度值\n",
    "gray_img_enhanced = cv2.convertScaleAbs(image, alpha=(max_gray-min_gray)/255, beta=min_gray)\n"
   ]
  },
  {
   "cell_type": "code",
   "execution_count": 46,
   "id": "c5fc5d47",
   "metadata": {},
   "outputs": [],
   "source": [
    "cv2.imshow('gray_image_enhanced',gray_img_enhanced)\n",
    "cv2.waitKey(0)\n",
    "cv2.destroyAllWindows()"
   ]
  },
  {
   "cell_type": "code",
   "execution_count": null,
   "id": "23c4ce6c",
   "metadata": {},
   "outputs": [],
   "source": [
    "#=============================同态滤波==========================\n",
    "gray = cv2.bilateralFilter(image, 15, 75, 75)\n",
    "# 对数变换和傅里叶变换\n",
    "H, W = gray.shape\n",
    "gray_log = np.log(gray+1)\n",
    "gray_fft = np.fft.fft2(gray_log)\n",
    "# 设置同态滤波器参数\n",
    "c, d, gamma_L, gamma_H, gamma_C = 1, 10, 0.2, 2.5, 1\n",
    "# 构造同态滤波器\n",
    "u, v = np.meshgrid(range(W), range(H))\n",
    "Duv = np.sqrt((u-W/2)**2 + (v-H/2)**2)\n",
    "Huv = (gamma_H - gamma_L) * (1 - np.exp(-c*(Duv**2)/(d**2))) + gamma_L\n",
    "Huv = Huv * (1 - gamma_C) + gamma_C\n",
    "# 进行频域滤波\n",
    "gray_fft_filtered = Huv * gray_fft\n",
    "gray_filtered = np.fft.ifft2(gray_fft_filtered)\n",
    "gray_filtered = np.exp(np.real(gray_filtered))-1\n",
    "# 转为uint8类型\n",
    "gray_filtered = cv2.normalize(gray_filtered, None, 0, 255, cv2.NORM_MINMAX, cv2.CV_8U)\n"
   ]
  },
  {
   "cell_type": "code",
   "execution_count": 47,
   "id": "42c55258",
   "metadata": {},
   "outputs": [],
   "source": [
    "#=============================对比拉伸==========================\n",
    "norm_img1 = cv2.normalize(image,None, alpha=0, beta=1, norm_type=cv2.NORM_MINMAX, dtype=cv2.CV_32F)\n",
    "# scale to uint8\n",
    "norm_img1 = (255 * norm_img1).astype(np.uint8)\n"
   ]
  },
  {
   "cell_type": "code",
   "execution_count": 48,
   "id": "7d7572fc",
   "metadata": {},
   "outputs": [],
   "source": [
    "cv2.imshow('norm_image1',norm_img1)\n",
    "cv2.waitKey(0) \n",
    "cv2.destroyAllWindows()"
   ]
  },
  {
   "cell_type": "code",
   "execution_count": 49,
   "id": "3d122818",
   "metadata": {
    "scrolled": true
   },
   "outputs": [
    {
     "name": "stderr",
     "output_type": "stream",
     "text": [
      "/var/folders/yy/xl5jyrln4lddx85rv3db9s_r0000gn/T/ipykernel_1434/1460892277.py:4: RuntimeWarning: divide by zero encountered in log\n",
      "  log_image = c * (np.log(image + 1))\n",
      "/var/folders/yy/xl5jyrln4lddx85rv3db9s_r0000gn/T/ipykernel_1434/1460892277.py:7: RuntimeWarning: invalid value encountered in cast\n",
      "  log_image = np.array(log_image, dtype=np.uint8)\n"
     ]
    }
   ],
   "source": [
    "#=============================对数变换==========================\n",
    "# Apply log transformation method\n",
    "c = 255 / np.log(1 + np.max(image))\n",
    "log_image = c * (np.log(image + 1))\n",
    "# Specify the data type so that\n",
    "# float value will be converted to int\n",
    "log_image = np.array(log_image, dtype=np.uint8)\n"
   ]
  },
  {
   "cell_type": "code",
   "execution_count": 50,
   "id": "d64b5606",
   "metadata": {},
   "outputs": [],
   "source": [
    "cv2.imshow('log_image',log_image)\n",
    "cv2.waitKey(0)\n",
    "cv2.destroyAllWindows()"
   ]
  },
  {
   "cell_type": "code",
   "execution_count": 51,
   "id": "8e1df013",
   "metadata": {},
   "outputs": [],
   "source": [
    "#=============================幂律变换（伽马变换）==========================\n",
    "# Apply Gamma=0.4 on the normalised image and then multiply by scaling constant (For 8 bit, c=255)\n",
    "gamma_point_eight = np.array(255 * (image / 255) ** 0.8, dtype='uint8')\n"
   ]
  },
  {
   "cell_type": "code",
   "execution_count": 52,
   "id": "8e25f1b9",
   "metadata": {},
   "outputs": [],
   "source": [
    "cv2.imshow('gamma_point_eight_image',gamma_point_eight)\n",
    "cv2.waitKey(0)\n",
    "cv2.destroyAllWindows()"
   ]
  },
  {
   "cell_type": "code",
   "execution_count": 53,
   "id": "d09d5aba",
   "metadata": {},
   "outputs": [],
   "source": [
    "# 图像均衡化\n",
    "def equalize(image):\n",
    "    # 分割B,G,R （cv2读取图像的格式即为[B,G,R]，与matplotlib的[R,G,B]不同）\n",
    "    b,g,r = cv2.split(image)\n",
    "    # 依次均衡化\n",
    "    b = cv2.equalizeHist(b)\n",
    "    g = cv2.equalizeHist(g)\n",
    "    r = cv2.equalizeHist(r)\n",
    "    # 结合成一个图像\n",
    "    equ_img = cv2.merge((b,g,r))\n",
    "    \n",
    "    return equ_img\n"
   ]
  },
  {
   "cell_type": "code",
   "execution_count": 54,
   "id": "6f3bba90",
   "metadata": {},
   "outputs": [],
   "source": [
    "equ_img=equalize(image)"
   ]
  },
  {
   "cell_type": "code",
   "execution_count": 55,
   "id": "77defcdf",
   "metadata": {},
   "outputs": [],
   "source": [
    "cv2.imshow('equ_image',equ_img)\n",
    "cv2.waitKey(0)\n",
    "cv2.destroyAllWindows()\n"
   ]
  },
  {
   "cell_type": "code",
   "execution_count": 56,
   "id": "52e3035b",
   "metadata": {},
   "outputs": [],
   "source": [
    "#  二值化、过滤滤波\n",
    "def extractGreen(image):\n",
    "    # 绿色范围\n",
    "    lower_green = np.array([0, 0, 0], dtype=\"uint8\")  # 颜色下限\n",
    "    upper_green = np.array([250, 250, 250], dtype=\"uint8\")  # 颜色上限\n",
    "    \n",
    "    # 高斯滤波\n",
    "    img_blur = cv2.GaussianBlur(image, (3, 3), 0)\n",
    "    img_blur = cv2.cvtColor(img_blur, cv2.COLOR_BGR2HSV)\n",
    "    # 根据阈值找到对应颜色，二值化\n",
    "    mask = cv2.inRange(img_blur, lower_green, upper_green)\n",
    "    \n",
    "    # 掩膜函数\n",
    "    output = cv2.bitwise_and(image, image, mask=mask)\n",
    "\n",
    "    return output\n"
   ]
  },
  {
   "cell_type": "code",
   "execution_count": 57,
   "id": "af5db2e1",
   "metadata": {},
   "outputs": [],
   "source": [
    "masked_img=extractGreen(image)"
   ]
  },
  {
   "cell_type": "code",
   "execution_count": 58,
   "id": "8c97d765",
   "metadata": {},
   "outputs": [],
   "source": [
    "cv2.imshow('masked_image',masked_img)\n",
    "cv2.waitKey(0)\n",
    "cv2.destroyAllWindows()"
   ]
  },
  {
   "cell_type": "code",
   "execution_count": 39,
   "id": "9af5b196",
   "metadata": {},
   "outputs": [],
   "source": [
    "import skimage.filters.rank as sfr\n",
    "from skimage.morphology import disk"
   ]
  },
  {
   "cell_type": "code",
   "execution_count": 59,
   "id": "ca94db90",
   "metadata": {},
   "outputs": [],
   "source": [
    "#灰度增强  效果最好\n",
    "import cv2\n",
    "from skimage import data,color\n",
    "import matplotlib.pyplot as plt\n",
    "from skimage.morphology import disk\n",
    "import skimage.filters.rank as sfr\n",
    "cv2.imshow('original',image)\n",
    "grayImage=cv2.cvtColor(image,cv2.COLOR_BGR2GRAY)\n",
    "auto=sfr.enhance_contrast(grayImage,disk(5))#半径为5的圆形滤波器\n",
    "cv2.imshow(\"result\",auto)\n",
    "cv2.waitKey(0)\n",
    "cv2.destroyAllWindows()"
   ]
  },
  {
   "cell_type": "code",
   "execution_count": 61,
   "id": "a2656244",
   "metadata": {},
   "outputs": [],
   "source": [
    "#特征提取\n",
    "import cv2\n",
    " \n",
    "# 初始化SIFT检测器\n",
    "sift = cv2.SIFT_create()\n",
    " \n",
    "# 使用detectAndCompute方法检测关键点并计算描述符\n",
    "keypoints, descriptors = sift.detectAndCompute(image, None)\n",
    " \n",
    "# 绘制关键点（可选）\n",
    "output_image = cv2.drawKeypoints(image, keypoints, None)\n",
    " \n",
    "# 显示图像\n",
    "cv2.imshow('Output Image', output_image)\n",
    "cv2.waitKey(0)\n",
    "cv2.destroyAllWindows()"
   ]
  },
  {
   "cell_type": "code",
   "execution_count": 42,
   "id": "85dce104",
   "metadata": {},
   "outputs": [
    {
     "name": "stdout",
     "output_type": "stream",
     "text": [
      "(128, 128, 3)\n"
     ]
    }
   ],
   "source": [
    "#resize\n",
    "newimg=cv2.resize(image, (128, 128), interpolation=cv2.INTER_CUBIC)\n",
    "print(np.shape(newimg))"
   ]
  },
  {
   "cell_type": "code",
   "execution_count": 43,
   "id": "9cd5ff2a",
   "metadata": {},
   "outputs": [],
   "source": [
    "#特征提取\n",
    "import cv2\n",
    " \n",
    "# 初始化SIFT检测器\n",
    "sift = cv2.SIFT_create()\n",
    " \n",
    "# 使用detectAndCompute方法检测关键点并计算描述符\n",
    "keypoints, descriptors = sift.detectAndCompute(newimg, None)\n",
    " \n",
    "# 绘制关键点（可选）\n",
    "newimg_output_image = cv2.drawKeypoints(newimg, keypoints, None)\n",
    " \n",
    "# 显示图像\n",
    "cv2.imshow('newimg_output_image', newimg_output_image)\n",
    "cv2.waitKey(0)\n",
    "cv2.destroyAllWindows()"
   ]
  },
  {
   "cell_type": "code",
   "execution_count": null,
   "id": "09c53731-e93c-49ef-a188-2bac3b39988d",
   "metadata": {},
   "outputs": [],
   "source": []
  }
 ],
 "metadata": {
  "kernelspec": {
   "display_name": "Python 3 (ipykernel)",
   "language": "python",
   "name": "python3"
  },
  "language_info": {
   "codemirror_mode": {
    "name": "ipython",
    "version": 3
   },
   "file_extension": ".py",
   "mimetype": "text/x-python",
   "name": "python",
   "nbconvert_exporter": "python",
   "pygments_lexer": "ipython3",
   "version": "3.8.17"
  }
 },
 "nbformat": 4,
 "nbformat_minor": 5
}
