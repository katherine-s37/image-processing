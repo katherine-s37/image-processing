{
 "cells": [
  {
   "cell_type": "code",
   "execution_count": 1,
   "id": "49e2dbd5",
   "metadata": {},
   "outputs": [
    {
     "name": "stderr",
     "output_type": "stream",
     "text": [
      "Duplicate key in file PosixPath('/Users/sunqian/anaconda3/envs/ICR/lib/python3.10/site-packages/matplotlib/mpl-data/matplotlibrc'), line 789 ('font.family         : sans-serif')\n",
      "Duplicate key in file PosixPath('/Users/sunqian/anaconda3/envs/ICR/lib/python3.10/site-packages/matplotlib/mpl-data/matplotlibrc'), line 790 ('font.sans-serif     : Microsoft YaHei, SimHei, Arial')\n"
     ]
    }
   ],
   "source": [
    "\n",
    "import os\n",
    "import cv2\n",
    "from  tqdm  import  tqdm \n",
    "import numpy as np\n",
    "import pandas as pd\n",
    "import matplotlib.pyplot as plt\n",
    "from sklearn.model_selection import StratifiedShuffleSplit\n",
    "import random\n",
    "from skimage import feature as ft\n",
    "from sklearn.decomposition import PCA\n",
    "from sklearn import model_selection\n",
    "from sklearn.metrics import classification_report\n",
    "from sklearn.model_selection import cross_val_score\n",
    "from sklearn.preprocessing import StandardScaler\n",
    "\n",
    "from xgboost import XGBClassifier\n",
    "import xgboost\n",
    "import lightgbm as lgb\n",
    "from sklearn.ensemble import RandomForestClassifier, ExtraTreesClassifier, GradientBoostingClassifier, StackingClassifier\n",
    "from sklearn.neighbors import KNeighborsClassifier\n",
    "from sklearn.svm import NuSVC, SVC\n",
    "from sklearn.linear_model import SGDClassifier\n",
    "\n",
    "from sklearn.model_selection import GridSearchCV \n",
    "from sklearn.metrics import confusion_matrix, ConfusionMatrixDisplay"
   ]
  },
  {
   "cell_type": "code",
   "execution_count": 27,
   "id": "9bfbd689",
   "metadata": {},
   "outputs": [],
   "source": [
    "#以1_Pre_test-h02060.jpg为例\n",
    "image=cv2.imread('h02060.jpg')"
   ]
  },
  {
   "cell_type": "code",
   "execution_count": 30,
   "id": "5f04407d",
   "metadata": {},
   "outputs": [],
   "source": [
    "#=============================灰度变换==========================\n",
    "# 通过将像素值映射到新的范围来增强图像的灰度\n",
    "min_gray = 0  # 新的最小灰度值\n",
    "max_gray = 255  # 新的最大灰度值\n",
    "gray_img_enhanced = cv2.convertScaleAbs(image, alpha=(max_gray-min_gray)/255, beta=min_gray)\n"
   ]
  },
  {
   "cell_type": "code",
   "execution_count": 31,
   "id": "c5fc5d47",
   "metadata": {},
   "outputs": [],
   "source": [
    "cv2.imshow('gray_image_enhanced',gray_img_enhanced)\n",
    "cv2.waitKey(0)\n",
    "cv2.destroyAllWindows()"
   ]
  },
  {
   "cell_type": "code",
   "execution_count": 33,
   "id": "23c4ce6c",
   "metadata": {
    "collapsed": true
   },
   "outputs": [
    {
     "ename": "ValueError",
     "evalue": "too many values to unpack (expected 2)",
     "output_type": "error",
     "traceback": [
      "\u001b[0;31m---------------------------------------------------------------------------\u001b[0m",
      "\u001b[0;31mValueError\u001b[0m                                Traceback (most recent call last)",
      "Cell \u001b[0;32mIn[33], line 4\u001b[0m\n\u001b[1;32m      2\u001b[0m gray \u001b[38;5;241m=\u001b[39m cv2\u001b[38;5;241m.\u001b[39mbilateralFilter(image, \u001b[38;5;241m15\u001b[39m, \u001b[38;5;241m75\u001b[39m, \u001b[38;5;241m75\u001b[39m)\n\u001b[1;32m      3\u001b[0m \u001b[38;5;66;03m# 对数变换和傅里叶变换\u001b[39;00m\n\u001b[0;32m----> 4\u001b[0m H, W \u001b[38;5;241m=\u001b[39m gray\u001b[38;5;241m.\u001b[39mshape\n\u001b[1;32m      5\u001b[0m gray_log \u001b[38;5;241m=\u001b[39m np\u001b[38;5;241m.\u001b[39mlog(gray\u001b[38;5;241m+\u001b[39m\u001b[38;5;241m1\u001b[39m)\n\u001b[1;32m      6\u001b[0m gray_fft \u001b[38;5;241m=\u001b[39m np\u001b[38;5;241m.\u001b[39mfft\u001b[38;5;241m.\u001b[39mfft2(gray_log)\n",
      "\u001b[0;31mValueError\u001b[0m: too many values to unpack (expected 2)"
     ]
    }
   ],
   "source": [
    "#=============================同态滤波==========================\n",
    "gray = cv2.bilateralFilter(image, 15, 75, 75)\n",
    "# 对数变换和傅里叶变换\n",
    "H, W = gray.shape\n",
    "gray_log = np.log(gray+1)\n",
    "gray_fft = np.fft.fft2(gray_log)\n",
    "# 设置同态滤波器参数\n",
    "c, d, gamma_L, gamma_H, gamma_C = 1, 10, 0.2, 2.5, 1\n",
    "# 构造同态滤波器\n",
    "u, v = np.meshgrid(range(W), range(H))\n",
    "Duv = np.sqrt((u-W/2)**2 + (v-H/2)**2)\n",
    "Huv = (gamma_H - gamma_L) * (1 - np.exp(-c*(Duv**2)/(d**2))) + gamma_L\n",
    "Huv = Huv * (1 - gamma_C) + gamma_C\n",
    "# 进行频域滤波\n",
    "gray_fft_filtered = Huv * gray_fft\n",
    "gray_filtered = np.fft.ifft2(gray_fft_filtered)\n",
    "gray_filtered = np.exp(np.real(gray_filtered))-1\n",
    "# 转为uint8类型\n",
    "gray_filtered = cv2.normalize(gray_filtered, None, 0, 255, cv2.NORM_MINMAX, cv2.CV_8U)\n"
   ]
  },
  {
   "cell_type": "code",
   "execution_count": 35,
   "id": "42c55258",
   "metadata": {},
   "outputs": [],
   "source": [
    "#=============================对比拉伸==========================\n",
    "norm_img1 = cv2.normalize(image,None, alpha=0, beta=1, norm_type=cv2.NORM_MINMAX, dtype=cv2.CV_32F)\n",
    "# scale to uint8\n",
    "norm_img1 = (255 * norm_img1).astype(np.uint8)\n"
   ]
  },
  {
   "cell_type": "code",
   "execution_count": 36,
   "id": "7d7572fc",
   "metadata": {},
   "outputs": [],
   "source": [
    "cv2.imshow('norm_image1',norm_img1)\n",
    "cv2.waitKey(0)\n",
    "cv2.destroyAllWindows()"
   ]
  },
  {
   "cell_type": "code",
   "execution_count": 38,
   "id": "3d122818",
   "metadata": {},
   "outputs": [
    {
     "name": "stderr",
     "output_type": "stream",
     "text": [
      "/var/folders/yy/xl5jyrln4lddx85rv3db9s_r0000gn/T/ipykernel_1817/1460892277.py:4: RuntimeWarning: divide by zero encountered in log\n",
      "  log_image = c * (np.log(image + 1))\n",
      "/var/folders/yy/xl5jyrln4lddx85rv3db9s_r0000gn/T/ipykernel_1817/1460892277.py:7: RuntimeWarning: invalid value encountered in cast\n",
      "  log_image = np.array(log_image, dtype=np.uint8)\n"
     ]
    }
   ],
   "source": [
    "#=============================对数变换==========================\n",
    "# Apply log transformation method\n",
    "c = 255 / np.log(1 + np.max(image))\n",
    "log_image = c * (np.log(image + 1))\n",
    "# Specify the data type so that\n",
    "# float value will be converted to int\n",
    "log_image = np.array(log_image, dtype=np.uint8)\n"
   ]
  },
  {
   "cell_type": "code",
   "execution_count": 39,
   "id": "d64b5606",
   "metadata": {},
   "outputs": [],
   "source": [
    "cv2.imshow('log_image',log_image)\n",
    "cv2.waitKey(0)\n",
    "cv2.destroyAllWindows()"
   ]
  },
  {
   "cell_type": "code",
   "execution_count": 40,
   "id": "8e1df013",
   "metadata": {},
   "outputs": [],
   "source": [
    "#=============================幂律变换（伽马变换）==========================\n",
    "# Apply Gamma=0.4 on the normalised image and then multiply by scaling constant (For 8 bit, c=255)\n",
    "gamma_point_eight = np.array(255 * (image / 255) ** 0.8, dtype='uint8')\n"
   ]
  },
  {
   "cell_type": "code",
   "execution_count": 41,
   "id": "8e25f1b9",
   "metadata": {},
   "outputs": [],
   "source": [
    "cv2.imshow('gamma_point_eight_image',gamma_point_eight)\n",
    "cv2.waitKey(0)\n",
    "cv2.destroyAllWindows()"
   ]
  },
  {
   "cell_type": "code",
   "execution_count": 2,
   "id": "d09d5aba",
   "metadata": {},
   "outputs": [],
   "source": [
    "# 图像均衡化\n",
    "def equalize(image):\n",
    "    # 分割B,G,R （cv2读取图像的格式即为[B,G,R]，与matplotlib的[R,G,B]不同）\n",
    "    b,g,r = cv2.split(image)\n",
    "    # 依次均衡化\n",
    "    b = cv2.equalizeHist(b)\n",
    "    g = cv2.equalizeHist(g)\n",
    "    r = cv2.equalizeHist(r)\n",
    "    # 结合成一个图像\n",
    "    equ_img = cv2.merge((b,g,r))\n",
    "    \n",
    "    return equ_img\n"
   ]
  },
  {
   "cell_type": "code",
   "execution_count": 4,
   "id": "6f3bba90",
   "metadata": {},
   "outputs": [],
   "source": [
    "equ_img=equalize(image)"
   ]
  },
  {
   "cell_type": "code",
   "execution_count": 6,
   "id": "77defcdf",
   "metadata": {},
   "outputs": [],
   "source": [
    "cv2.imshow('equ_image',equ_img)\n",
    "cv2.waitKey(0)\n",
    "cv2.destroyAllWindows()\n"
   ]
  },
  {
   "cell_type": "code",
   "execution_count": 48,
   "id": "52e3035b",
   "metadata": {},
   "outputs": [],
   "source": [
    "#  二值化、过滤滤波\n",
    "def extractGreen(image):\n",
    "    # 绿色范围\n",
    "    lower_green = np.array([0, 0, 0], dtype=\"uint8\")  # 颜色下限\n",
    "    upper_green = np.array([250, 250, 250], dtype=\"uint8\")  # 颜色上限\n",
    "    \n",
    "    # 高斯滤波\n",
    "    img_blur = cv2.GaussianBlur(image, (3, 3), 0)\n",
    "    img_blur = cv2.cvtColor(img_blur, cv2.COLOR_BGR2HSV)\n",
    "    # 根据阈值找到对应颜色，二值化\n",
    "    mask = cv2.inRange(img_blur, lower_green, upper_green)\n",
    "    \n",
    "    # 掩膜函数\n",
    "    output = cv2.bitwise_and(image, image, mask=mask)\n",
    "\n",
    "    return output\n"
   ]
  },
  {
   "cell_type": "code",
   "execution_count": 25,
   "id": "af5db2e1",
   "metadata": {},
   "outputs": [],
   "source": [
    "masked_img=extractGreen(image)"
   ]
  },
  {
   "cell_type": "code",
   "execution_count": 26,
   "id": "8c97d765",
   "metadata": {},
   "outputs": [],
   "source": [
    "cv2.imshow('masked_image',masked_img)\n",
    "cv2.waitKey(0)\n",
    "cv2.destroyAllWindows()"
   ]
  },
  {
   "cell_type": "code",
   "execution_count": 46,
   "id": "9af5b196",
   "metadata": {},
   "outputs": [],
   "source": [
    "import skimage.filters.rank as sfr\n",
    "from skimage.morphology import disk"
   ]
  },
  {
   "cell_type": "code",
   "execution_count": 49,
   "id": "ca94db90",
   "metadata": {},
   "outputs": [],
   "source": [
    "#灰度增强  效果最好\n",
    "import cv2\n",
    "from skimage import data,color\n",
    "import matplotlib.pyplot as plt\n",
    "from skimage.morphology import disk\n",
    "import skimage.filters.rank as sfr\n",
    "cv2.imshow('original',image)\n",
    "grayImage=cv2.cvtColor(image,cv2.COLOR_BGR2GRAY)\n",
    "auto=sfr.enhance_contrast(grayImage,disk(5))#半径为5的圆形滤波器\n",
    "cv2.imshow(\"result\",auto)\n",
    "cv2.waitKey(0)\n",
    "cv2.destroyAllWindows()"
   ]
  },
  {
   "cell_type": "code",
   "execution_count": 52,
   "id": "a2656244",
   "metadata": {},
   "outputs": [],
   "source": [
    "#特征提取\n",
    "import cv2\n",
    " \n",
    "# 初始化SIFT检测器\n",
    "sift = cv2.SIFT_create()\n",
    " \n",
    "# 使用detectAndCompute方法检测关键点并计算描述符\n",
    "keypoints, descriptors = sift.detectAndCompute(image, None)\n",
    " \n",
    "# 绘制关键点（可选）\n",
    "output_image = cv2.drawKeypoints(image, keypoints, None)\n",
    " \n",
    "# 显示图像\n",
    "cv2.imshow('Output Image', output_image)\n",
    "cv2.waitKey(0)\n",
    "cv2.destroyAllWindows()"
   ]
  },
  {
   "cell_type": "code",
   "execution_count": 53,
   "id": "85dce104",
   "metadata": {},
   "outputs": [
    {
     "name": "stdout",
     "output_type": "stream",
     "text": [
      "(128, 128, 3)\n"
     ]
    }
   ],
   "source": [
    "#resize\n",
    "newimg=cv2.resize(image, (128, 128), interpolation=cv2.INTER_CUBIC)\n",
    "print(np.shape(newimg))"
   ]
  },
  {
   "cell_type": "code",
   "execution_count": null,
   "id": "9cd5ff2a",
   "metadata": {},
   "outputs": [],
   "source": [
    "#特征提取\n",
    "import cv2\n",
    " \n",
    "# 初始化SIFT检测器\n",
    "sift = cv2.SIFT_create()\n",
    " \n",
    "# 使用detectAndCompute方法检测关键点并计算描述符\n",
    "keypoints, descriptors = sift.detectAndCompute(newimg, None)\n",
    " \n",
    "# 绘制关键点（可选）\n",
    "newimg_output_image = cv2.drawKeypoints(newimg, keypoints, None)\n",
    " \n",
    "# 显示图像\n",
    "cv2.imshow('newimg_output_image', newimg_output_image)\n",
    "cv2.waitKey(0)\n",
    "cv2.destroyAllWindows()"
   ]
  }
 ],
 "metadata": {
  "kernelspec": {
   "display_name": "Python 3 (ipykernel)",
   "language": "python",
   "name": "python3"
  },
  "language_info": {
   "codemirror_mode": {
    "name": "ipython",
    "version": 3
   },
   "file_extension": ".py",
   "mimetype": "text/x-python",
   "name": "python",
   "nbconvert_exporter": "python",
   "pygments_lexer": "ipython3",
   "version": "3.10.9"
  }
 },
 "nbformat": 4,
 "nbformat_minor": 5
}
